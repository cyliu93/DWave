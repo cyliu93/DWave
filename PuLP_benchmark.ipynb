{
 "cells": [
  {
   "cell_type": "code",
   "execution_count": 1,
   "id": "d59214ca",
   "metadata": {},
   "outputs": [
    {
     "name": "stdout",
     "output_type": "stream",
     "text": [
      "Python version:  3.9.12\n",
      "PuLP version:  2.7.0\n"
     ]
    }
   ],
   "source": [
    "from platform import python_version\n",
    "from pulp import *\n",
    "import pulp\n",
    "\n",
    "print(\"Python version: \", python_version())\n",
    "print(\"PuLP version: \", pulp.__version__)"
   ]
  },
  {
   "cell_type": "code",
   "execution_count": 7,
   "id": "dd6a092e",
   "metadata": {},
   "outputs": [],
   "source": [
    "def mps2PuLP(filename):\n",
    "    # read mps file\n",
    "    mpsFile = open(filename, \"r\")\n",
    "    mpsLine = mpsFile.readlines()\n",
    "    mpsLine = [s.replace('\\n', '') for s in mpsLine]\n",
    "\n",
    "    readRow, readCol, readRHS, readBnd, readObj = False, False, False, False, False\n",
    "    equations, variables, objEq = {}, set(), None\n",
    "    LHSeq, RHSeq, upBound, lowBound = {}, {}, {}, {}\n",
    "\n",
    "    for i in range(len(mpsLine)):\n",
    "        string = mpsLine[i]  \n",
    "        if  string == 'ROWS':\n",
    "            readRow = True\n",
    "        elif string == 'COLUMNS':\n",
    "            readRow = False\n",
    "            readCol = True\n",
    "            LHS = {k: [] for k in equations.keys()}\n",
    "            RHS = {k: [] for k in equations.keys()}\n",
    "        elif string == 'RHS':\n",
    "            readCol = False\n",
    "            readRHS = True\n",
    "        elif string == 'BOUNDS':\n",
    "            readRHS = False\n",
    "            readBnd = True\n",
    "\n",
    "        if readRow and string != 'ROWS':\n",
    "            relation, eq = string.split()\n",
    "            equations[eq] = relation\n",
    "            if not readObj and relation == 'N': ObjEq = eq\n",
    "\n",
    "        if readCol and string != 'COLUMNS':\n",
    "            strList = string.split()\n",
    "            var = strList[0]\n",
    "            variables.add(var)\n",
    "            for i in range(0, len(strList)//2):\n",
    "                LHS[strList[i*2+1]].append((var, strList[i*2+2]))\n",
    "\n",
    "        if readRHS and string != 'RHS':\n",
    "            strList = string.split()\n",
    "            for i in range(0, len(strList)//2):\n",
    "                RHS[strList[i*2+1]] = strList[i*2+2]\n",
    "\n",
    "        if readBnd and string != 'BOUNDS':\n",
    "            strList = string.split()\n",
    "            if strList[0] == 'UP':\n",
    "                upBound[strList[2]] = strList[3]\n",
    "            elif strList[0] == 'LO':\n",
    "                lowBound[strList[2]] = strList[3]\n",
    "\n",
    "    mpsFile.close()\n",
    "    \n",
    "    ### convert into PuLP ###\n",
    "    model = LpProblem(\"mps_Model\", LpMinimize)\n",
    "\n",
    "    # variables\n",
    "    x = LpVariable.dicts(\"var_\", variables, cat='continuous')\n",
    "\n",
    "    # constraints\n",
    "    for eq in equations:\n",
    "        currLHS = lpSum(x[v]*float(coef) for v, coef in LHS[eq])\n",
    "\n",
    "        if eq == ObjEq:\n",
    "            model += currLHS\n",
    "\n",
    "        if equations[eq] == 'E':\n",
    "            model += currLHS == float(RHS[eq])\n",
    "        elif equations[eq] == 'G':\n",
    "            model += currLHS >= float(RHS[eq])\n",
    "        elif equations[eq] == 'L':\n",
    "            model += currLHS <= float(RHS[eq])\n",
    "\n",
    "    # variables: constraints\n",
    "    for k in upBound.keys():\n",
    "        x[k].upBound = float(upBound[k])\n",
    "    for k in lowBound.keys():\n",
    "        x[k].lowBound = float(lowBound[k])\n",
    "    \n",
    "    return model, x"
   ]
  },
  {
   "cell_type": "code",
   "execution_count": 16,
   "id": "8efcd6e3",
   "metadata": {},
   "outputs": [],
   "source": [
    "model1, x = mps2PuLP(\"testprob.mps\")"
   ]
  },
  {
   "cell_type": "code",
   "execution_count": 9,
   "id": "a071f02e",
   "metadata": {},
   "outputs": [
    {
     "data": {
      "text/plain": [
       "1"
      ]
     },
     "execution_count": 9,
     "metadata": {},
     "output_type": "execute_result"
    }
   ],
   "source": [
    "model1.solve()"
   ]
  },
  {
   "cell_type": "code",
   "execution_count": 10,
   "id": "051034aa",
   "metadata": {},
   "outputs": [
    {
     "data": {
      "text/plain": [
       "54.0"
      ]
     },
     "execution_count": 10,
     "metadata": {},
     "output_type": "execute_result"
    }
   ],
   "source": [
    "value(model1.objective)"
   ]
  },
  {
   "cell_type": "code",
   "execution_count": 14,
   "id": "efd049b1",
   "metadata": {},
   "outputs": [
    {
     "name": "stdout",
     "output_type": "stream",
     "text": [
      "XONE: 4.0\n",
      "YTWO: -1.0\n",
      "ZTHREE: 6.0\n"
     ]
    }
   ],
   "source": [
    "for k in x.keys():\n",
    "    print(k+\": \"+str(x[k].varValue))"
   ]
  },
  {
   "cell_type": "code",
   "execution_count": null,
   "id": "d1da7bbf",
   "metadata": {},
   "outputs": [],
   "source": []
  }
 ],
 "metadata": {
  "kernelspec": {
   "display_name": "Python 3 (ipykernel)",
   "language": "python",
   "name": "python3"
  },
  "language_info": {
   "codemirror_mode": {
    "name": "ipython",
    "version": 3
   },
   "file_extension": ".py",
   "mimetype": "text/x-python",
   "name": "python",
   "nbconvert_exporter": "python",
   "pygments_lexer": "ipython3",
   "version": "3.9.12"
  }
 },
 "nbformat": 4,
 "nbformat_minor": 5
}
