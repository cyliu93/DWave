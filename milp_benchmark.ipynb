{
 "metadata": {
  "language_info": {
   "codemirror_mode": {
    "name": "ipython",
    "version": 3
   },
   "file_extension": ".py",
   "mimetype": "text/x-python",
   "name": "python",
   "nbconvert_exporter": "python",
   "pygments_lexer": "ipython3",
   "version": "3.9.16"
  },
  "orig_nbformat": 4,
  "kernelspec": {
   "name": "python3",
   "display_name": "Python 3.9.16 64-bit"
  },
  "interpreter": {
   "hash": "4cd7ab41f5fca4b9b44701077e38c5ffd31fe66a6cab21e0214b68d958d0e462"
  }
 },
 "nbformat": 4,
 "nbformat_minor": 2,
 "cells": [
  {
   "cell_type": "code",
   "execution_count": 52,
   "metadata": {},
   "outputs": [],
   "source": [
    "from dimod import ConstrainedQuadraticModel, Real, Integer, quicksum\n",
    "\n",
    "def mps2cmq(filename):\n",
    "    ### read the mps file ###\n",
    "    mpsFile = open(filename, \"r\")\n",
    "    mpsLine = mpsFile.readlines()\n",
    "    mpsLine = [s.replace('\\n', '') for s in mpsLine]\n",
    "\n",
    "    readRow, readCol, readInt, readRHS, readBnd, readObj = False, False, False, False, False, False\n",
    "    equations, int_variables, real_variables, objEq = {}, set(), set(), None\n",
    "    LHSeq, RHSeq, upBound, lowBound = {}, {}, {}, {}\n",
    "\n",
    "    for i in range(len(mpsLine)):\n",
    "        string = mpsLine[i]  \n",
    "        if  string == 'ROWS':\n",
    "            readRow = True\n",
    "        elif string == 'COLUMNS':\n",
    "            readRow = False\n",
    "            readCol = True\n",
    "            LHSeq = {k: [] for k in equations.keys()}\n",
    "            RHSeq = {k: [] for k in equations.keys()}\n",
    "        elif string == 'RHS':\n",
    "            readCol = False\n",
    "            readRHS = True\n",
    "        elif string == 'BOUNDS':\n",
    "            readRHS = False\n",
    "            readBnd = True\n",
    "\n",
    "        if readRow and string != 'ROWS':\n",
    "            relation, eq = string.split()\n",
    "            equations[eq] = relation\n",
    "            if not readObj and relation == 'N': ObjEq = eq\n",
    "        \n",
    "        if readCol and string != 'COLUMNS':\n",
    "            strList = string.split()\n",
    "            if strList[1] == \"\\'MARKER\\'\" and strList[2] == \"\\'INTORG\\'\":\n",
    "                readInt = True\n",
    "                continue\n",
    "            elif strList[1] == \"\\'MARKER\\'\" and strList[2] == \"\\'INTEND\\'\":\n",
    "                readInt = False\n",
    "                continue\n",
    "\n",
    "            var = strList[0]\n",
    "            if readInt:\n",
    "                int_variables.add(var)\n",
    "            else:\n",
    "                real_variables.add(var)\n",
    "            for i in range(0, len(strList)//2):\n",
    "                LHSeq[strList[i*2+1]].append((var, strList[i*2+2]))\n",
    "        \n",
    "        if readRHS and string != 'RHS':\n",
    "            strList = string.split()\n",
    "            for i in range(0, len(strList)//2):\n",
    "                RHSeq[strList[i*2+1]] = strList[i*2+2]\n",
    "        \n",
    "        if readBnd and string != 'BOUNDS':\n",
    "            strList = string.split()\n",
    "            if strList[0] == 'UP':\n",
    "                upBound[strList[2]] = strList[3]\n",
    "            elif strList[0] == 'LO':\n",
    "                lowBound[strList[2]] = strList[3]\n",
    "\n",
    "    mpsFile.close()\n",
    "\n",
    "    ### convert into cqm ###\n",
    "    cqm = ConstrainedQuadraticModel()\n",
    "\n",
    "    # variables\n",
    "    x = {v: Real(v) for v in real_variables}\n",
    "    x_int = {v: Integer(v) for v in int_variables}\n",
    "    x.update(x_int)\n",
    "\n",
    "    # the objective function and constraint equations\n",
    "    for eq in equations:\n",
    "        currLHS = quicksum(x[v]*float(coef) for v, coef in LHSeq[eq])\n",
    "\n",
    "        if eq == ObjEq:\n",
    "            cqm.set_objective(currLHS)\n",
    "        \n",
    "        if equations[eq] == 'E':\n",
    "            cqm.add_constraint(currLHS == float(RHSeq[eq]), label=eq)\n",
    "        elif equations[eq] == 'G':\n",
    "            cqm.add_constraint(currLHS >= float(RHSeq[eq]), label=eq)\n",
    "        elif equations[eq] == 'L':\n",
    "            cqm.add_constraint(currLHS <= float(RHSeq[eq]), label=eq)\n",
    "\n",
    "    # constraints on the variables\n",
    "    for k in upBound.keys():\n",
    "        cqm.set_upper_bound(k, float(upBound[k]))\n",
    "    for k in lowBound.keys():\n",
    "        cqm.set_lower_bound(k, float(lowBound[k]))\n",
    "    \n",
    "    return cqm"
   ]
  },
  {
   "cell_type": "code",
   "execution_count": 56,
   "metadata": {},
   "outputs": [],
   "source": [
    "from dwave.system import LeapHybridCQMSampler\n",
    "\n",
    "# read mps file\n",
    "cqm1 = mps2cmq('markshare_4_0.mps')"
   ]
  },
  {
   "cell_type": "code",
   "execution_count": 45,
   "metadata": {},
   "outputs": [],
   "source": [
    "# run the solver\n",
    "sampler = LeapHybridCQMSampler()\n",
    "sampleset = sampler.sample_cqm(cqm1, label='markshare_4_0')"
   ]
  },
  {
   "cell_type": "code",
   "execution_count": 46,
   "metadata": {},
   "outputs": [],
   "source": [
    "# analyze the results\n",
    "feasible_sampleset = sampleset.filter(lambda d: d.is_feasible)"
   ]
  },
  {
   "cell_type": "code",
   "execution_count": 54,
   "metadata": {},
   "outputs": [
    {
     "output_type": "execute_result",
     "data": {
      "text/plain": [
       "0.0"
      ]
     },
     "metadata": {},
     "execution_count": 54
    }
   ],
   "source": [
    "sampleset.first.energy"
   ]
  },
  {
   "cell_type": "code",
   "execution_count": null,
   "metadata": {},
   "outputs": [],
   "source": []
  }
 ]
}