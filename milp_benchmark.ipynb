{
 "metadata": {
  "language_info": {
   "codemirror_mode": {
    "name": "ipython",
    "version": 3
   },
   "file_extension": ".py",
   "mimetype": "text/x-python",
   "name": "python",
   "nbconvert_exporter": "python",
   "pygments_lexer": "ipython3",
   "version": "3.9.16"
  },
  "orig_nbformat": 4,
  "kernelspec": {
   "name": "python3",
   "display_name": "Python 3.9.16 64-bit"
  },
  "interpreter": {
   "hash": "4cd7ab41f5fca4b9b44701077e38c5ffd31fe66a6cab21e0214b68d958d0e462"
  }
 },
 "nbformat": 4,
 "nbformat_minor": 2,
 "cells": [
  {
   "cell_type": "code",
   "execution_count": 135,
   "metadata": {},
   "outputs": [],
   "source": [
    "from dimod import ConstrainedQuadraticModel, Real, Integer, Binary, quicksum\n",
    "\n",
    "def mps2cmq(filename):\n",
    "    ### read the mps file ###\n",
    "    mpsFile = open(filename, \"r\")\n",
    "    mpsLine = mpsFile.readlines()\n",
    "    mpsLine = [s.replace('\\n', '') for s in mpsLine]\n",
    "\n",
    "    readRow, readCol, readInt, readRHS, readBnd, readObj = False, False, False, False, False, False\n",
    "    equations, bi_variables, int_variables, real_variables, objEq = {}, set(), set(), set(), None\n",
    "    LHSeq, RHSeq, upBound, lowBound = {}, {}, {}, {}\n",
    "\n",
    "    for i in range(len(mpsLine)):\n",
    "        string = mpsLine[i]  \n",
    "        if  string == 'ROWS':\n",
    "            readRow = True\n",
    "        elif string == 'COLUMNS':\n",
    "            readRow = False\n",
    "            readCol = True\n",
    "            LHSeq = {k: [] for k in equations.keys()}\n",
    "            RHSeq = {k: [] for k in equations.keys()}\n",
    "        elif string == 'RHS':\n",
    "            readCol = False\n",
    "            readRHS = True\n",
    "        elif string == 'BOUNDS':\n",
    "            readRHS = False\n",
    "            readBnd = True\n",
    "\n",
    "        if readRow and string != 'ROWS':\n",
    "            relation, eq = string.split()\n",
    "            equations[eq] = relation\n",
    "            if not readObj and relation == 'N': ObjEq = eq\n",
    "        \n",
    "        if readCol and string != 'COLUMNS':\n",
    "            strList = string.split()\n",
    "            if strList[1] == \"\\'MARKER\\'\" and strList[2] == \"\\'INTORG\\'\":\n",
    "                readInt = True\n",
    "                continue\n",
    "            elif strList[1] == \"\\'MARKER\\'\" and strList[2] == \"\\'INTEND\\'\":\n",
    "                readInt = False\n",
    "                continue\n",
    "\n",
    "            var = strList[0]\n",
    "            if readInt:\n",
    "                int_variables.add(var)\n",
    "            else:\n",
    "                real_variables.add(var)\n",
    "            for i in range(0, len(strList)//2):\n",
    "                LHSeq[strList[i*2+1]].append((var, strList[i*2+2]))\n",
    "        \n",
    "        if readRHS and string != 'RHS':\n",
    "            strList = string.split()\n",
    "            for i in range(0, len(strList)//2):\n",
    "                RHSeq[strList[i*2+1]] = strList[i*2+2]\n",
    "        \n",
    "        if readBnd and string != 'BOUNDS':\n",
    "            strList = string.split()\n",
    "            if strList[0] == 'UP':\n",
    "                upBound[strList[2]] = strList[3]\n",
    "            elif strList[0] == 'LO':\n",
    "                lowBound[strList[2]] = strList[3]\n",
    "\n",
    "    mpsFile.close()\n",
    "\n",
    "    ### convert into cqm ###\n",
    "    cqm = ConstrainedQuadraticModel()\n",
    "\n",
    "    # variables\n",
    "    for s in upBound:\n",
    "        if upBound[s] == '1' and s in int_variables:\n",
    "            bi_variables.add(s)\n",
    "            int_variables.remove(s)\n",
    "\n",
    "    x = {v: Real(v) for v in real_variables}\n",
    "    x_int = {v: Integer(v) for v in int_variables}\n",
    "    x_bi = {v: Binary(v) for v in bi_variables}\n",
    "    x.update(x_int)\n",
    "    x.update(x_bi)\n",
    "\n",
    "    # the objective function and constraint equations\n",
    "    for eq in equations:\n",
    "        currLHS = quicksum(x[v]*float(coef) for v, coef in LHSeq[eq])\n",
    "\n",
    "        if eq == ObjEq:\n",
    "            cqm.set_objective(currLHS)\n",
    "        if RHSeq[eq]:\n",
    "            if equations[eq] == 'E':\n",
    "                cqm.add_constraint(currLHS == float(RHSeq[eq]), label=eq)\n",
    "            elif equations[eq] == 'G':\n",
    "                cqm.add_constraint(currLHS >= float(RHSeq[eq]), label=eq)\n",
    "            elif equations[eq] == 'L':\n",
    "                cqm.add_constraint(currLHS <= float(RHSeq[eq]), label=eq)\n",
    "\n",
    "    # constraints on the variables\n",
    "    for k in upBound.keys():\n",
    "         if k not in bi_variables: cqm.set_upper_bound(k, float(upBound[k]))\n",
    "    for k in lowBound.keys():\n",
    "        cqm.set_lower_bound(k, float(lowBound[k]))\n",
    "    \n",
    "    return cqm"
   ]
  },
  {
   "cell_type": "code",
   "execution_count": 136,
   "metadata": {
    "tags": []
   },
   "outputs": [],
   "source": [
    "from dwave.system import LeapHybridCQMSampler\n",
    "\n",
    "# read mps file\n",
    "# cqm1 = mps2cmq('testprob.mps')\n",
    "cqm1 = mps2cmq('markshare_4_0.mps')\n",
    "# cqm1 = mps2cmq('50v-10.mps')"
   ]
  },
  {
   "cell_type": "code",
   "execution_count": 137,
   "metadata": {},
   "outputs": [],
   "source": [
    "# run the solver\n",
    "sampler = LeapHybridCQMSampler()\n",
    "sampleset = sampler.sample_cqm(cqm1, label='markshare_4_0')"
   ]
  },
  {
   "cell_type": "code",
   "execution_count": 138,
   "metadata": {},
   "outputs": [
    {
     "output_type": "execute_result",
     "data": {
      "text/plain": [
       "SampleSet(rec.array([([  6.,  12.,   2.,   4.,   0.,   1.,   0.,   1.,   0.,   0.,   0.,   0.,   1.,   0.,   0.,   1.,   0.,   1.,   0.,   1.,   1.,   1.,   1.,   0.,   1.,   1.,   0.,   0.,   0.,   1.,   1.,   0.,   1.,   0.],  24., 1, [ True,  True,  True,  True],  True),\n",
       "           ([  6.,   3.,  14.,  10.,   1.,   0.,   0.,   0.,   1.,   0.,   0.,   1.,   1.,   0.,   0.,   0.,   1.,   1.,   1.,   0.,   1.,   0.,   1.,   1.,   1.,   0.,   1.,   0.,   0.,   1.,   0.,   1.,   0.,   1.],  33., 1, [ True,  True,  True,  True],  True),\n",
       "           ([ 14.,   7.,   8.,   4.,   0.,   0.,   1.,   1.,   0.,   1.,   1.,   1.,   0.,   1.,   0.,   0.,   0.,   1.,   1.,   0.,   0.,   0.,   1.,   1.,   1.,   0.,   0.,   0.,   1.,   0.,   1.,   1.,   0.,   0.],  33., 1, [ True,  True,  True,  True],  True),\n",
       "           ([  7.,  16.,  10.,   0.,   1.,   1.,   0.,   0.,   0.,   0.,   1.,   1.,   1.,   1.,   0.,   1.,   0.,   0.,   1.,   1.,   0.,   0.,   1.,   0.,   1.,   0.,   0.,   1.,   0.,   0.,   1.,   1.,   0.,   0.],  33., 1, [ True,  True,  True,  True],  True),\n",
       "           ([  0.,  21.,  11.,   3.,   0.,   0.,   0.,   1.,   0.,   1.,   0.,   0.,   1.,   1.,   0.,   1.,   0.,   1.,   0.,   0.,   1.,   1.,   0.,   0.,   0.,   1.,   0.,   1.,   1.,   1.,   1.,   0.,   0.,   1.],  35., 1, [ True,  True,  True,  True],  True),\n",
       "           ([  6.,  18.,  10.,   9.,   0.,   0.,   1.,   0.,   1.,   1.,   1.,   0.,   0.,   1.,   1.,   0.,   1.,   0.,   0.,   0.,   1.,   1.,   1.,   1.,   0.,   0.,   1.,   1.,   1.,   1.,   0.,   0.,   0.,   0.],  43., 1, [ True,  True,  True,  True],  True),\n",
       "           ([ 25.,  14.,   2.,   3.,   1.,   1.,   0.,   1.,   0.,   0.,   0.,   0.,   1.,   1.,   1.,   1.,   0.,   1.,   1.,   0.,   0.,   1.,   0.,   0.,   0.,   1.,   0.,   0.,   1.,   0.,   1.,   0.,   1.,   0.],  44., 1, [ True,  True,  True,  True],  True),\n",
       "           ([ 21.,  10.,   8.,   8.,   1.,   1.,   1.,   1.,   0.,   1.,   0.,   1.,   1.,   1.,   0.,   1.,   0.,   1.,   0.,   1.,   0.,   1.,   0.,   0.,   0.,   0.,   0.,   1.,   1.,   0.,   0.,   0.,   0.,   0.],  47., 1, [ True,  True,  True,  True],  True),\n",
       "           ([ 28.,   4.,   1.,  19.,   0.,   0.,   0.,   0.,   1.,   1.,   0.,   1.,   1.,   0.,   0.,   0.,   0.,   1.,   1.,   1.,   1.,   0.,   1.,   0.,   1.,   0.,   1.,   0.,   1.,   1.,   1.,   0.,   0.,   0.],  52., 1, [ True,  True,  True,  True],  True),\n",
       "           ([  1.,   9.,  26.,  17.,   1.,   0.,   0.,   0.,   1.,   1.,   1.,   0.,   1.,   0.,   1.,   0.,   0.,   1.,   1.,   0.,   1.,   1.,   1.,   1.,   0.,   0.,   0.,   0.,   0.,   1.,   1.,   0.,   0.,   0.],  53., 1, [ True,  True,  True,  True],  True),\n",
       "           ([ 11.,   7.,  11.,  24.,   1.,   0.,   0.,   1.,   1.,   0.,   0.,   0.,   1.,   1.,   0.,   1.,   0.,   1.,   0.,   0.,   1.,   1.,   0.,   1.,   0.,   0.,   1.,   0.,   0.,   0.,   0.,   1.,   1.,   1.],  53., 1, [ True,  True,  True,  True],  True),\n",
       "           ([ 18.,  19.,   3.,  15.,   0.,   0.,   0.,   0.,   1.,   0.,   1.,   0.,   0.,   1.,   0.,   0.,   0.,   0.,   1.,   0.,   1.,   1.,   1.,   1.,   0.,   0.,   1.,   1.,   0.,   0.,   1.,   1.,   1.,   1.],  55., 1, [ True,  True,  True,  True],  True),\n",
       "           ([ 48.,   0.,   9.,   1.,   1.,   0.,   1.,   1.,   0.,   0.,   1.,   0.,   0.,   0.,   0.,   0.,   0.,   0.,   0.,   1.,   0.,   1.,   1.,   1.,   0.,   0.,   1.,   1.,   1.,   0.,   1.,   1.,   1.,   0.],  58., 1, [ True,  True,  True,  True],  True),\n",
       "           ([ 25.,  17.,  16.,   3.,   0.,   0.,   0.,   0.,   0.,   1.,   1.,   0.,   0.,   1.,   0.,   0.,   0.,   1.,   0.,   0.,   0.,   0.,   1.,   1.,   1.,   1.,   1.,   1.,   0.,   1.,   1.,   1.,   1.,   1.],  61., 1, [ True,  True,  True,  True],  True),\n",
       "           ([ 20.,  39.,  10.,   2.,   1.,   1.,   1.,   1.,   0.,   1.,   1.,   1.,   1.,   0.,   0.,   0.,   0.,   1.,   1.,   1.,   0.,   0.,   0.,   0.,   0.,   0.,   0.,   0.,   1.,   0.,   1.,   0.,   0.,   1.],  71., 1, [ True,  True,  True,  True],  True),\n",
       "           ([  9.,  10.,  32.,  23.,   0.,   0.,   1.,   1.,   1.,   0.,   0.,   1.,   1.,   1.,   0.,   0.,   0.,   1.,   1.,   0.,   0.,   1.,   1.,   0.,   0.,   1.,   0.,   0.,   1.,   0.,   1.,   0.,   0.,   0.],  74., 1, [ True,  True,  True,  True],  True),\n",
       "           ([ 36.,  12.,   5.,  25.,   0.,   0.,   0.,   1.,   0.,   1.,   1.,   0.,   0.,   1.,   1.,   1.,   0.,   1.,   1.,   0.,   1.,   0.,   1.,   0.,   0.,   0.,   1.,   0.,   1.,   0.,   0.,   1.,   0.,   1.],  78., 1, [ True,  True,  True,  True],  True),\n",
       "           ([ 58.,  11.,   6.,   5.,   1.,   1.,   1.,   0.,   0.,   0.,   1.,   1.,   0.,   1.,   0.,   0.,   0.,   0.,   1.,   1.,   1.,   0.,   0.,   1.,   1.,   0.,   0.,   1.,   1.,   1.,   0.,   0.,   1.,   0.],  80., 1, [ True,  True,  True,  True],  True),\n",
       "           ([ 12.,  46.,  23.,   7.,   0.,   0.,   0.,   0.,   0.,   1.,   0.,   1.,   1.,   0.,   1.,   0.,   1.,   1.,   1.,   0.,   1.,   1.,   1.,   1.,   1.,   0.,   0.,   1.,   0.,   1.,   0.,   1.,   0.,   0.],  88., 1, [ True,  True,  True,  True],  True),\n",
       "           ([ 45.,  13.,   4.,  28.,   1.,   1.,   1.,   0.,   0.,   1.,   1.,   0.,   0.,   0.,   1.,   0.,   1.,   0.,   1.,   0.,   0.,   1.,   1.,   1.,   1.,   0.,   0.,   1.,   1.,   0.,   1.,   0.,   0.,   0.],  90., 1, [ True,  True,  True,  True],  True),\n",
       "           ([ 46.,  21.,  21.,  11.,   0.,   1.,   1.,   1.,   0.,   0.,   1.,   1.,   0.,   1.,   1.,   0.,   0.,   1.,   1.,   0.,   0.,   1.,   0.,   0.,   1.,   0.,   0.,   1.,   1.,   1.,   0.,   0.,   1.,   0.],  99., 1, [ True,  True,  True,  True],  True),\n",
       "           ([ 21.,   8.,  18.,  53.,   1.,   1.,   0.,   1.,   0.,   0.,   0.,   1.,   0.,   0.,   1.,   0.,   1.,   1.,   1.,   0.,   1.,   0.,   0.,   1.,   0.,   1.,   0.,   0.,   1.,   1.,   0.,   0.,   1.,   1.], 100., 1, [ True,  True,  True,  True],  True),\n",
       "           ([  4.,  78.,  15.,   5.,   0.,   0.,   1.,   1.,   1.,   1.,   0.,   0.,   0.,   0.,   0.,   1.,   0.,   1.,   1.,   1.,   1.,   1.,   0.,   1.,   0.,   0.,   0.,   0.,   1.,   1.,   0.,   0.,   0.,   1.], 102., 1, [ True,  True,  True,  True],  True),\n",
       "           ([ 39.,  61.,   1.,  26.,   0.,   1.,   1.,   0.,   0.,   0.,   0.,   1.,   0.,   0.,   0.,   0.,   1.,   1.,   1.,   1.,   1.,   0.,   1.,   0.,   1.,   0.,   0.,   1.,   0.,   1.,   0.,   1.,   1.,   1.], 127., 1, [ True,  True,  True,  True],  True),\n",
       "           ([  8.,  76.,  31.,  19.,   0.,   1.,   1.,   0.,   1.,   0.,   0.,   0.,   1.,   1.,   1.,   1.,   0.,   0.,   1.,   0.,   1.,   0.,   1.,   0.,   1.,   0.,   1.,   0.,   1.,   0.,   0.,   0.,   1.,   0.], 134., 1, [ True,  True,  True,  True],  True),\n",
       "           ([ 33.,  35.,  36.,  31.,   0.,   0.,   0.,   1.,   0.,   0.,   0.,   0.,   1.,   0.,   1.,   1.,   1.,   0.,   0.,   1.,   1.,   0.,   1.,   1.,   0.,   1.,   0.,   1.,   0.,   0.,   1.,   1.,   0.,   0.], 135., 1, [ True,  True,  True,  True],  True),\n",
       "           ([  3.,  35.,  65.,  34.,   0.,   0.,   0.,   0.,   0.,   1.,   0.,   0.,   0.,   0.,   1.,   0.,   1.,   1.,   0.,   1.,   1.,   0.,   1.,   1.,   1.,   1.,   1.,   0.,   1.,   1.,   0.,   1.,   0.,   1.], 137., 1, [ True,  True,  True,  True],  True),\n",
       "           ([ 16.,  37.,  85.,   2.,   0.,   0.,   0.,   0.,   1.,   0.,   0.,   1.,   1.,   0.,   0.,   0.,   0.,   1.,   0.,   0.,   1.,   1.,   1.,   1.,   0.,   0.,   1.,   1.,   0.,   1.,   1.,   0.,   1.,   0.], 140., 1, [ True,  True,  True,  True],  True),\n",
       "           ([  6.,   6., 147.,   1.,   0.,   1.,   0.,   1.,   0.,   1.,   1.,   0.,   0.,   1.,   0.,   1.,   0.,   0.,   0.,   1.,   1.,   1.,   0.,   1.,   0.,   0.,   1.,   0.,   0.,   1.,   1.,   0.,   0.,   1.], 160., 1, [ True,  True,  True,  True],  True),\n",
       "           ([ 67.,  41.,  13.,  86.,   1.,   0.,   1.,   1.,   1.,   1.,   1.,   1.,   1.,   0.,   0.,   0.,   0.,   0.,   0.,   0.,   1.,   1.,   0.,   0.,   1.,   1.,   0.,   0.,   1.,   1.,   0.,   0.,   1.,   0.], 207., 1, [ True,  True,  True,  True],  True),\n",
       "           ([ 35., 148., 210.,   0.,   0.,   1.,   1.,   0.,   0.,   0.,   1.,   1.,   1.,   0.,   0.,   0.,   0.,   0.,   0.,   1.,   0.,   0.,   1.,   1.,   1.,   0.,   1.,   0.,   1.,   0.,   1.,   0.,   0.,   0.], 393., 1, [ True,  True,  True,  True],  True),\n",
       "           ([ 97.,   8., 300.,  52.,   0.,   0.,   1.,   0.,   0.,   0.,   0.,   1.,   1.,   0.,   1.,   0.,   0.,   1.,   0.,   1.,   1.,   0.,   1.,   0.,   1.,   0.,   1.,   0.,   0.,   0.,   1.,   1.,   0.,   0.], 457., 1, [ True,  True,  True,  True],  True),\n",
       "           ([ 51., 209., 254.,   0.,   0.,   1.,   1.,   0.,   0.,   0.,   1.,   1.,   1.,   0.,   0.,   0.,   0.,   0.,   0.,   1.,   0.,   0.,   1.,   1.,   0.,   0.,   1.,   0.,   1.,   0.,   1.,   0.,   0.,   0.], 514., 1, [ True,  True,  True,  True],  True),\n",
       "           ([186., 212.,  67.,  94.,   1.,   1.,   1.,   0.,   1.,   0.,   1.,   0.,   0.,   0.,   0.,   0.,   1.,   0.,   1.,   0.,   0.,   0.,   1.,   1.,   1.,   1.,   0.,   0.,   0.,   0.,   0.,   1.,   1.,   0.], 559., 1, [ True,  True,  True,  True],  True),\n",
       "           ([280., 166., 127., 165.,   0.,   0.,   1.,   0.,   0.,   0.,   0.,   0.,   0.,   1.,   0.,   0.,   1.,   1.,   0.,   1.,   1.,   0.,   1.,   0.,   0.,   1.,   0.,   1.,   0.,   0.,   0.,   1.,   1.,   0.], 738., 1, [ True,  True,  True,  True],  True)],\n",
       "          dtype=[('sample', '<f8', (34,)), ('energy', '<f8'), ('num_occurrences', '<i8'), ('is_satisfied', '?', (4,)), ('is_feasible', '?')]), Variables(['s1', 's2', 's3', 's4', 'x1', 'x10', 'x11', 'x12', 'x13', 'x14', 'x15', 'x16', 'x17', 'x18', 'x19', 'x2', 'x20', 'x21', 'x22', 'x23', 'x24', 'x25', 'x26', 'x27', 'x28', 'x29', 'x3', 'x30', 'x4', 'x5', 'x6', 'x7', 'x8', 'x9']), {'constraint_labels': ['C1_', 'C3_', 'C2_', 'C4_'], 'qpu_access_time': 15909, 'charge_time': 5000000, 'run_time': 5001021, 'problem_id': 'c47b5bbb-3916-4acd-9f9f-4f1b52ff1e17', 'problem_label': 'markshare_4_0'}, 'INTEGER')"
      ]
     },
     "metadata": {},
     "execution_count": 138
    }
   ],
   "source": [
    "# analyze the results\n",
    "feasible_sampleset = sampleset.filter(lambda d: d.is_feasible)\n",
    "feasible_sampleset"
   ]
  },
  {
   "cell_type": "code",
   "execution_count": 139,
   "metadata": {},
   "outputs": [
    {
     "output_type": "execute_result",
     "data": {
      "text/plain": [
       "24.0"
      ]
     },
     "metadata": {},
     "execution_count": 139
    }
   ],
   "source": [
    "feasible_sampleset.first.energy"
   ]
  },
  {
   "cell_type": "code",
   "execution_count": 140,
   "metadata": {
    "tags": []
   },
   "outputs": [
    {
     "output_type": "stream",
     "name": "stdout",
     "text": [
      "s1: Vartype.REAL\nx1: Vartype.BINARY\nx2: Vartype.BINARY\nx3: Vartype.BINARY\nx4: Vartype.BINARY\nx5: Vartype.BINARY\nx6: Vartype.BINARY\nx7: Vartype.BINARY\nx8: Vartype.BINARY\nx9: Vartype.BINARY\nx10: Vartype.BINARY\nx11: Vartype.BINARY\nx12: Vartype.BINARY\nx13: Vartype.BINARY\nx14: Vartype.BINARY\nx15: Vartype.BINARY\nx16: Vartype.BINARY\nx17: Vartype.BINARY\nx18: Vartype.BINARY\nx19: Vartype.BINARY\nx20: Vartype.BINARY\nx21: Vartype.BINARY\nx22: Vartype.BINARY\nx23: Vartype.BINARY\nx24: Vartype.BINARY\nx25: Vartype.BINARY\nx26: Vartype.BINARY\nx27: Vartype.BINARY\nx28: Vartype.BINARY\nx29: Vartype.BINARY\nx30: Vartype.BINARY\ns2: Vartype.REAL\ns3: Vartype.REAL\ns4: Vartype.REAL\n"
     ]
    }
   ],
   "source": [
    "for v in cqm1.variables:\n",
    "    print(v + \": \" + str(cqm1.vartype(v)))"
   ]
  },
  {
   "cell_type": "code",
   "execution_count": null,
   "metadata": {},
   "outputs": [],
   "source": []
  }
 ]
}