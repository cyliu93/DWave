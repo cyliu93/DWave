{
 "metadata": {
  "language_info": {
   "codemirror_mode": {
    "name": "ipython",
    "version": 3
   },
   "file_extension": ".py",
   "mimetype": "text/x-python",
   "name": "python",
   "nbconvert_exporter": "python",
   "pygments_lexer": "ipython3",
   "version": "3.9.16"
  },
  "orig_nbformat": 4,
  "kernelspec": {
   "name": "python3",
   "display_name": "Python 3.9.16 64-bit"
  },
  "interpreter": {
   "hash": "4cd7ab41f5fca4b9b44701077e38c5ffd31fe66a6cab21e0214b68d958d0e462"
  }
 },
 "nbformat": 4,
 "nbformat_minor": 2,
 "cells": [
  {
   "cell_type": "code",
   "execution_count": 40,
   "metadata": {},
   "outputs": [],
   "source": [
    "from dimod import ConstrainedQuadraticModel, Real, Integer, Binary, quicksum\n",
    "\n",
    "def mps2cmq(filename):\n",
    "    ### read the mps file ###\n",
    "    mpsFile = open(filename, \"r\")\n",
    "    mpsLine = mpsFile.readlines()\n",
    "    mpsLine = [s.replace('\\n', '') for s in mpsLine]\n",
    "\n",
    "    readRow, readCol, readInt, readRHS, readBnd, readObj = False, False, False, False, False, False\n",
    "    equations, bi_variables, int_variables, real_variables, objEq = {}, set(), set(), set(), None\n",
    "    LHSeq, RHSeq, upBound, lowBound = {}, {}, {}, {}\n",
    "\n",
    "    for i in range(len(mpsLine)):\n",
    "        string = mpsLine[i]  \n",
    "        if  string == 'ROWS':\n",
    "            readRow = True\n",
    "        elif string == 'COLUMNS':\n",
    "            readRow = False\n",
    "            readCol = True\n",
    "            LHSeq = {k: [] for k in equations.keys()}\n",
    "            RHSeq = {k: [] for k in equations.keys()}\n",
    "        elif string == 'RHS':\n",
    "            readCol = False\n",
    "            readRHS = True\n",
    "        elif string == 'BOUNDS':\n",
    "            readRHS = False\n",
    "            readBnd = True\n",
    "\n",
    "        if readRow and string != 'ROWS':\n",
    "            relation, eq = string.split()\n",
    "            equations[eq] = relation\n",
    "            if not readObj and relation == 'N': ObjEq = eq\n",
    "        \n",
    "        if readCol and string != 'COLUMNS':\n",
    "            strList = string.split()\n",
    "            if strList[1] == \"\\'MARKER\\'\" and strList[2] == \"\\'INTORG\\'\":\n",
    "                readInt = True\n",
    "                continue\n",
    "            elif strList[1] == \"\\'MARKER\\'\" and strList[2] == \"\\'INTEND\\'\":\n",
    "                readInt = False\n",
    "                continue\n",
    "\n",
    "            var = strList[0]\n",
    "            if readInt:\n",
    "                int_variables.add(var)\n",
    "            else:\n",
    "                real_variables.add(var)\n",
    "            for i in range(0, len(strList)//2):\n",
    "                LHSeq[strList[i*2+1]].append((var, strList[i*2+2]))\n",
    "        \n",
    "        if readRHS and string != 'RHS':\n",
    "            strList = string.split()\n",
    "            for i in range(0, len(strList)//2):\n",
    "                RHSeq[strList[i*2+1]] = strList[i*2+2]\n",
    "        \n",
    "        if readBnd and string != 'BOUNDS':\n",
    "            strList = string.split()\n",
    "            if strList[0] == 'UP':\n",
    "                upBound[strList[2]] = strList[3]\n",
    "            elif strList[0] == 'LO':\n",
    "                lowBound[strList[2]] = strList[3]\n",
    "\n",
    "    mpsFile.close()\n",
    "\n",
    "    ### convert into cqm ###\n",
    "    cqm = ConstrainedQuadraticModel()\n",
    "\n",
    "    # variables\n",
    "    for s in upBound:\n",
    "        if upBound[s] == '1' and s in int_variables:\n",
    "            bi_variables.add(s)\n",
    "            int_variables.remove(s)\n",
    "\n",
    "    x = {v: Real(v) for v in real_variables}\n",
    "    x_int = {v: Integer(v) for v in int_variables}\n",
    "    x_bi = {v: Binary(v) for v in bi_variables}\n",
    "    x.update(x_int)\n",
    "    x.update(x_bi)\n",
    "\n",
    "    # the objective function and constraint equations\n",
    "    for eq in equations:\n",
    "        currLHS = quicksum(x[v]*float(coef) for v, coef in LHSeq[eq])\n",
    "\n",
    "        if eq == ObjEq:\n",
    "            cqm.set_objective(currLHS)\n",
    "            continue\n",
    "\n",
    "        RHSvalue = float(RHSeq[eq]) if RHSeq[eq] else 0.0\n",
    "        if equations[eq] == 'E':\n",
    "            cqm.add_constraint(currLHS == RHSvalue, label=eq)\n",
    "        elif equations[eq] == 'G':\n",
    "            cqm.add_constraint(currLHS >= RHSvalue, label=eq)\n",
    "        elif equations[eq] == 'L':\n",
    "            cqm.add_constraint(currLHS <= RHSvalue, label=eq)\n",
    "\n",
    "    # constraints on the variables\n",
    "    for k in upBound.keys():\n",
    "         if k not in bi_variables: cqm.set_upper_bound(k, float(upBound[k]))\n",
    "    for k in lowBound.keys():\n",
    "        cqm.set_lower_bound(k, float(lowBound[k]))\n",
    "    \n",
    "    return cqm"
   ]
  },
  {
   "cell_type": "code",
   "execution_count": 41,
   "metadata": {
    "tags": []
   },
   "outputs": [],
   "source": [
    "from dwave.system import LeapHybridCQMSampler\n",
    "\n",
    "# read mps file\n",
    "# cqm1 = mps2cmq('testprob.mps')\n",
    "# cqm1 = mps2cmq('markshare_4_0.mps')\n",
    "cqm1 = mps2cmq('50v-10.mps')"
   ]
  },
  {
   "cell_type": "code",
   "execution_count": 52,
   "metadata": {},
   "outputs": [],
   "source": [
    "# run the solver\n",
    "sampler = LeapHybridCQMSampler()\n",
    "sampleset = sampler.sample_cqm(cqm1, label='50v-10')"
   ]
  },
  {
   "cell_type": "code",
   "execution_count": 55,
   "metadata": {},
   "outputs": [
    {
     "output_type": "execute_result",
     "data": {
      "text/plain": [
       "6600.5000042021275"
      ]
     },
     "metadata": {},
     "execution_count": 55
    }
   ],
   "source": [
    "# analyze the results\n",
    "feasible_sampleset = sampleset.filter(lambda d: d.is_feasible)\n",
    "feasible_sampleset.first.energy"
   ]
  },
  {
   "cell_type": "code",
   "execution_count": 22,
   "metadata": {
    "tags": [
     "outputPrepend"
    ]
   },
   "outputs": [
    {
     "output_type": "stream",
     "name": "stdout",
     "text": [
      "ARY\nx1343: Vartype.BINARY\nx1344: Vartype.BINARY\nx1345: Vartype.BINARY\nx1346: Vartype.BINARY\nx1347: Vartype.INTEGER\nx1348: Vartype.BINARY\nx1349: Vartype.BINARY\nx1350: Vartype.BINARY\nx1351: Vartype.BINARY\nx1352: Vartype.BINARY\nx1353: Vartype.BINARY\nx1354: Vartype.BINARY\nx1355: Vartype.BINARY\nx1356: Vartype.INTEGER\nx1357: Vartype.BINARY\nx1358: Vartype.BINARY\nx1359: Vartype.BINARY\nx1360: Vartype.BINARY\nx1361: Vartype.BINARY\nx1362: Vartype.BINARY\nx1363: Vartype.BINARY\nx1364: Vartype.BINARY\nx1365: Vartype.INTEGER\nx1366: Vartype.BINARY\nx1367: Vartype.BINARY\nx1368: Vartype.BINARY\nx1369: Vartype.BINARY\nx1370: Vartype.BINARY\nx1371: Vartype.BINARY\nx1372: Vartype.BINARY\nx1373: Vartype.BINARY\nx1374: Vartype.INTEGER\nx1375: Vartype.BINARY\nx1376: Vartype.BINARY\nx1377: Vartype.BINARY\nx1378: Vartype.BINARY\nx1379: Vartype.BINARY\nx1380: Vartype.BINARY\nx1381: Vartype.BINARY\nx1382: Vartype.BINARY\nx1383: Vartype.INTEGER\nx1384: Vartype.BINARY\nx1385: Vartype.BINARY\nx1386: Vartype.BINARY\nx1387: Vartype.BINARY\nx1388: Vartype.BINARY\nx1389: Vartype.BINARY\nx1390: Vartype.BINARY\nx1391: Vartype.BINARY\nx1392: Vartype.INTEGER\nx1393: Vartype.BINARY\nx1394: Vartype.BINARY\nx1395: Vartype.BINARY\nx1396: Vartype.BINARY\nx1397: Vartype.BINARY\nx1398: Vartype.BINARY\nx1399: Vartype.BINARY\nx1400: Vartype.BINARY\nx1401: Vartype.INTEGER\nx1402: Vartype.BINARY\nx1403: Vartype.BINARY\nx1404: Vartype.BINARY\nx1405: Vartype.BINARY\nx1406: Vartype.BINARY\nx1407: Vartype.BINARY\nx1408: Vartype.BINARY\nx1409: Vartype.BINARY\nx1410: Vartype.INTEGER\nx1411: Vartype.BINARY\nx1412: Vartype.BINARY\nx1413: Vartype.BINARY\nx1414: Vartype.BINARY\nx1415: Vartype.BINARY\nx1416: Vartype.BINARY\nx1417: Vartype.BINARY\nx1418: Vartype.BINARY\nx1419: Vartype.INTEGER\nx1420: Vartype.BINARY\nx1421: Vartype.BINARY\nx1422: Vartype.BINARY\nx1423: Vartype.BINARY\nx1424: Vartype.BINARY\nx1425: Vartype.BINARY\nx1426: Vartype.BINARY\nx1427: Vartype.BINARY\nx1428: Vartype.INTEGER\nx1429: Vartype.BINARY\nx1430: Vartype.BINARY\nx1431: Vartype.BINARY\nx1432: Vartype.BINARY\nx1433: Vartype.BINARY\nx1434: Vartype.BINARY\nx1435: Vartype.BINARY\nx1436: Vartype.BINARY\nx1437: Vartype.INTEGER\nx1438: Vartype.BINARY\nx1439: Vartype.BINARY\nx1440: Vartype.BINARY\nx1441: Vartype.BINARY\nx1442: Vartype.BINARY\nx1443: Vartype.BINARY\nx1444: Vartype.BINARY\nx1445: Vartype.BINARY\nx1446: Vartype.INTEGER\nx1447: Vartype.BINARY\nx1448: Vartype.BINARY\nx1449: Vartype.BINARY\nx1450: Vartype.BINARY\nx1451: Vartype.BINARY\nx1452: Vartype.BINARY\nx1453: Vartype.BINARY\nx1454: Vartype.BINARY\nx1455: Vartype.INTEGER\nx1456: Vartype.BINARY\nx1457: Vartype.BINARY\nx1458: Vartype.BINARY\nx1459: Vartype.BINARY\nx1460: Vartype.BINARY\nx1461: Vartype.BINARY\nx1462: Vartype.BINARY\nx1463: Vartype.BINARY\nx1464: Vartype.INTEGER\nx1465: Vartype.BINARY\nx1466: Vartype.BINARY\nx1467: Vartype.BINARY\nx1468: Vartype.BINARY\nx1469: Vartype.BINARY\nx1470: Vartype.BINARY\nx1471: Vartype.BINARY\nx1472: Vartype.BINARY\nx1473: Vartype.INTEGER\nx1474: Vartype.BINARY\nx1475: Vartype.BINARY\nx1476: Vartype.BINARY\nx1477: Vartype.BINARY\nx1478: Vartype.BINARY\nx1479: Vartype.BINARY\nx1480: Vartype.BINARY\nx1481: Vartype.BINARY\nx1482: Vartype.INTEGER\nx1483: Vartype.BINARY\nx1484: Vartype.BINARY\nx1485: Vartype.BINARY\nx1486: Vartype.BINARY\nx1487: Vartype.BINARY\nx1488: Vartype.BINARY\nx1489: Vartype.BINARY\nx1490: Vartype.BINARY\nx1491: Vartype.INTEGER\nx1492: Vartype.BINARY\nx1493: Vartype.BINARY\nx1494: Vartype.BINARY\nx1495: Vartype.BINARY\nx1496: Vartype.BINARY\nx1497: Vartype.BINARY\nx1498: Vartype.BINARY\nx1499: Vartype.BINARY\nx1500: Vartype.INTEGER\nx1501: Vartype.BINARY\nx1502: Vartype.BINARY\nx1503: Vartype.BINARY\nx1504: Vartype.BINARY\nx1505: Vartype.BINARY\nx1506: Vartype.BINARY\nx1507: Vartype.BINARY\nx1508: Vartype.BINARY\nx1509: Vartype.INTEGER\nx1510: Vartype.BINARY\nx1511: Vartype.BINARY\nx1512: Vartype.BINARY\nx1513: Vartype.BINARY\nx1514: Vartype.BINARY\nx1515: Vartype.BINARY\nx1516: Vartype.BINARY\nx1517: Vartype.BINARY\nx1518: Vartype.INTEGER\nx1519: Vartype.BINARY\nx1520: Vartype.BINARY\nx1521: Vartype.BINARY\nx1522: Vartype.BINARY\nx1523: Vartype.BINARY\nx1524: Vartype.BINARY\nx1525: Vartype.BINARY\nx1526: Vartype.BINARY\nx1527: Vartype.INTEGER\nx1528: Vartype.BINARY\nx1529: Vartype.BINARY\nx1530: Vartype.BINARY\nx1531: Vartype.BINARY\nx1532: Vartype.BINARY\nx1533: Vartype.BINARY\nx1534: Vartype.BINARY\nx1535: Vartype.BINARY\nx1536: Vartype.INTEGER\nx1537: Vartype.BINARY\nx1538: Vartype.BINARY\nx1539: Vartype.BINARY\nx1540: Vartype.BINARY\nx1541: Vartype.BINARY\nx1542: Vartype.BINARY\nx1543: Vartype.BINARY\nx1544: Vartype.BINARY\nx1545: Vartype.INTEGER\nx1546: Vartype.BINARY\nx1547: Vartype.BINARY\nx1548: Vartype.BINARY\nx1549: Vartype.BINARY\nx1550: Vartype.BINARY\nx1551: Vartype.BINARY\nx1552: Vartype.BINARY\nx1553: Vartype.BINARY\nx1554: Vartype.INTEGER\nx1555: Vartype.BINARY\nx1556: Vartype.BINARY\nx1557: Vartype.BINARY\nx1558: Vartype.BINARY\nx1559: Vartype.BINARY\nx1560: Vartype.BINARY\nx1561: Vartype.BINARY\nx1562: Vartype.BINARY\nx1563: Vartype.INTEGER\nx1564: Vartype.BINARY\nx1565: Vartype.BINARY\nx1566: Vartype.BINARY\nx1567: Vartype.BINARY\nx1568: Vartype.BINARY\nx1569: Vartype.BINARY\nx1570: Vartype.BINARY\nx1571: Vartype.BINARY\nx1572: Vartype.INTEGER\nx1573: Vartype.BINARY\nx1574: Vartype.BINARY\nx1575: Vartype.BINARY\nx1576: Vartype.BINARY\nx1577: Vartype.BINARY\nx1578: Vartype.BINARY\nx1579: Vartype.BINARY\nx1580: Vartype.BINARY\nx1581: Vartype.INTEGER\nx1582: Vartype.BINARY\nx1583: Vartype.BINARY\nx1584: Vartype.BINARY\nx1585: Vartype.BINARY\nx1586: Vartype.BINARY\nx1587: Vartype.BINARY\nx1588: Vartype.BINARY\nx1589: Vartype.BINARY\nx1590: Vartype.INTEGER\nx1591: Vartype.BINARY\nx1592: Vartype.BINARY\nx1593: Vartype.BINARY\nx1594: Vartype.BINARY\nx1595: Vartype.BINARY\nx1596: Vartype.BINARY\nx1597: Vartype.BINARY\nx1598: Vartype.BINARY\nx1599: Vartype.INTEGER\nx1600: Vartype.BINARY\nx1601: Vartype.BINARY\nx1602: Vartype.BINARY\nx1603: Vartype.BINARY\nx1604: Vartype.BINARY\nx1605: Vartype.BINARY\nx1606: Vartype.BINARY\nx1607: Vartype.BINARY\nx1608: Vartype.INTEGER\nx1609: Vartype.BINARY\nx1610: Vartype.BINARY\nx1611: Vartype.BINARY\nx1612: Vartype.BINARY\nx1613: Vartype.BINARY\nx1614: Vartype.BINARY\nx1615: Vartype.BINARY\nx1616: Vartype.BINARY\nx1617: Vartype.INTEGER\nx1618: Vartype.BINARY\nx1619: Vartype.BINARY\nx1620: Vartype.BINARY\nx1621: Vartype.BINARY\nx1622: Vartype.BINARY\nx1623: Vartype.BINARY\nx1624: Vartype.BINARY\nx1625: Vartype.BINARY\nx1626: Vartype.INTEGER\nx1627: Vartype.BINARY\nx1628: Vartype.BINARY\nx1629: Vartype.BINARY\nx1630: Vartype.BINARY\nx1631: Vartype.BINARY\nx1632: Vartype.BINARY\nx1633: Vartype.BINARY\nx1634: Vartype.BINARY\nx1635: Vartype.INTEGER\nx1636: Vartype.BINARY\nx1637: Vartype.BINARY\nx1638: Vartype.BINARY\nx1639: Vartype.BINARY\nx1640: Vartype.BINARY\nx1641: Vartype.BINARY\nx1642: Vartype.BINARY\nx1643: Vartype.BINARY\nx1644: Vartype.INTEGER\nx1645: Vartype.BINARY\nx1646: Vartype.BINARY\nx1647: Vartype.BINARY\nx1648: Vartype.BINARY\nx1649: Vartype.BINARY\nx1650: Vartype.BINARY\nx1651: Vartype.BINARY\nx1652: Vartype.BINARY\nx1653: Vartype.INTEGER\nx1654: Vartype.BINARY\nx1655: Vartype.BINARY\nx1656: Vartype.BINARY\nx1657: Vartype.BINARY\nx1658: Vartype.BINARY\nx1659: Vartype.BINARY\nx1660: Vartype.BINARY\nx1661: Vartype.BINARY\nx1662: Vartype.INTEGER\nx1663: Vartype.BINARY\nx1664: Vartype.BINARY\nx1665: Vartype.BINARY\nx1666: Vartype.BINARY\nx1667: Vartype.BINARY\nx1668: Vartype.BINARY\nx1669: Vartype.BINARY\nx1670: Vartype.BINARY\nx1671: Vartype.INTEGER\nx1672: Vartype.BINARY\nx1673: Vartype.BINARY\nx1674: Vartype.BINARY\nx1675: Vartype.BINARY\nx1676: Vartype.BINARY\nx1677: Vartype.BINARY\nx1678: Vartype.BINARY\nx1679: Vartype.BINARY\nx1680: Vartype.INTEGER\nx1681: Vartype.BINARY\nx1682: Vartype.BINARY\nx1683: Vartype.BINARY\nx1684: Vartype.BINARY\nx1685: Vartype.BINARY\nx1686: Vartype.BINARY\nx1687: Vartype.BINARY\nx1688: Vartype.BINARY\nx1689: Vartype.INTEGER\nx1690: Vartype.BINARY\nx1691: Vartype.BINARY\nx1692: Vartype.BINARY\nx1693: Vartype.BINARY\nx1694: Vartype.BINARY\nx1695: Vartype.BINARY\nx1696: Vartype.BINARY\nx1697: Vartype.BINARY\nx1698: Vartype.INTEGER\nx1699: Vartype.BINARY\nx1700: Vartype.BINARY\nx1701: Vartype.BINARY\nx1702: Vartype.BINARY\nx1703: Vartype.BINARY\nx1704: Vartype.BINARY\nx1705: Vartype.BINARY\nx1706: Vartype.BINARY\nx1707: Vartype.INTEGER\nx1708: Vartype.BINARY\nx1709: Vartype.BINARY\nx1710: Vartype.BINARY\nx1711: Vartype.BINARY\nx1712: Vartype.BINARY\nx1713: Vartype.BINARY\nx1714: Vartype.BINARY\nx1715: Vartype.BINARY\nx1716: Vartype.INTEGER\nx1717: Vartype.BINARY\nx1718: Vartype.BINARY\nx1719: Vartype.BINARY\nx1720: Vartype.BINARY\nx1721: Vartype.BINARY\nx1722: Vartype.BINARY\nx1723: Vartype.BINARY\nx1724: Vartype.BINARY\nx1725: Vartype.INTEGER\nx1726: Vartype.BINARY\nx1727: Vartype.BINARY\nx1728: Vartype.BINARY\nx1729: Vartype.BINARY\nx1730: Vartype.BINARY\nx1731: Vartype.BINARY\nx1732: Vartype.BINARY\nx1733: Vartype.BINARY\nx1734: Vartype.INTEGER\nx1735: Vartype.BINARY\nx1736: Vartype.BINARY\nx1737: Vartype.BINARY\nx1738: Vartype.BINARY\nx1739: Vartype.BINARY\nx1740: Vartype.BINARY\nx1741: Vartype.BINARY\nx1742: Vartype.BINARY\nx1743: Vartype.INTEGER\nx1744: Vartype.BINARY\nx1745: Vartype.BINARY\nx1746: Vartype.BINARY\nx1747: Vartype.BINARY\nx1748: Vartype.BINARY\nx1749: Vartype.BINARY\nx1750: Vartype.BINARY\nx1751: Vartype.BINARY\nx1752: Vartype.INTEGER\nx1753: Vartype.BINARY\nx1754: Vartype.BINARY\nx1755: Vartype.BINARY\nx1756: Vartype.BINARY\nx1757: Vartype.BINARY\nx1758: Vartype.BINARY\nx1759: Vartype.BINARY\nx1760: Vartype.BINARY\nx1761: Vartype.INTEGER\nx1762: Vartype.BINARY\nx1763: Vartype.BINARY\nx1764: Vartype.BINARY\nx1765: Vartype.BINARY\nx1766: Vartype.BINARY\nx1767: Vartype.BINARY\nx1768: Vartype.BINARY\nx1769: Vartype.BINARY\nx1770: Vartype.INTEGER\nx1771: Vartype.BINARY\nx1772: Vartype.BINARY\nx1773: Vartype.BINARY\nx1774: Vartype.BINARY\nx1775: Vartype.BINARY\nx1776: Vartype.BINARY\nx1777: Vartype.BINARY\nx1778: Vartype.BINARY\nx1779: Vartype.INTEGER\nx1780: Vartype.BINARY\nx1781: Vartype.BINARY\nx1782: Vartype.BINARY\nx1783: Vartype.BINARY\nx1784: Vartype.BINARY\nx1785: Vartype.BINARY\nx1786: Vartype.BINARY\nx1787: Vartype.BINARY\nx1788: Vartype.INTEGER\nx1789: Vartype.BINARY\nx1790: Vartype.BINARY\nx1791: Vartype.BINARY\nx1792: Vartype.BINARY\nx1793: Vartype.BINARY\nx1794: Vartype.BINARY\nx1795: Vartype.BINARY\nx1796: Vartype.BINARY\nx1797: Vartype.INTEGER\nx1798: Vartype.BINARY\nx1799: Vartype.BINARY\nx1800: Vartype.BINARY\nx1801: Vartype.BINARY\nx1802: Vartype.BINARY\nx1803: Vartype.BINARY\nx1804: Vartype.BINARY\nx1805: Vartype.BINARY\nx1806: Vartype.INTEGER\nx1807: Vartype.BINARY\nx1808: Vartype.BINARY\nx1809: Vartype.BINARY\nx1810: Vartype.BINARY\nx1811: Vartype.BINARY\nx1812: Vartype.BINARY\nx1813: Vartype.BINARY\nx1814: Vartype.BINARY\nx1815: Vartype.INTEGER\nx1816: Vartype.BINARY\nx1817: Vartype.BINARY\nx1818: Vartype.BINARY\nx1819: Vartype.BINARY\nx1820: Vartype.BINARY\nx1821: Vartype.BINARY\nx1822: Vartype.BINARY\nx1823: Vartype.BINARY\nx1824: Vartype.INTEGER\nx1825: Vartype.BINARY\nx1826: Vartype.BINARY\nx1827: Vartype.BINARY\nx1828: Vartype.BINARY\nx1829: Vartype.BINARY\nx1830: Vartype.BINARY\nx1831: Vartype.BINARY\nx1832: Vartype.BINARY\nx1833: Vartype.INTEGER\nx1834: Vartype.BINARY\nx1835: Vartype.BINARY\nx1836: Vartype.BINARY\nx1837: Vartype.BINARY\nx1838: Vartype.BINARY\nx1839: Vartype.BINARY\nx1840: Vartype.BINARY\nx1841: Vartype.BINARY\nx1842: Vartype.INTEGER\nx1843: Vartype.BINARY\nx1844: Vartype.BINARY\nx1845: Vartype.BINARY\nx1846: Vartype.BINARY\nx1847: Vartype.BINARY\nx1848: Vartype.BINARY\nx1849: Vartype.BINARY\nx1850: Vartype.BINARY\nx1851: Vartype.INTEGER\nx1852: Vartype.BINARY\nx1853: Vartype.BINARY\nx1854: Vartype.BINARY\nx1855: Vartype.BINARY\nx1856: Vartype.BINARY\nx1857: Vartype.BINARY\nx1858: Vartype.BINARY\nx1859: Vartype.BINARY\nx1860: Vartype.INTEGER\nx1861: Vartype.BINARY\nx1862: Vartype.BINARY\nx1863: Vartype.BINARY\nx1864: Vartype.BINARY\nx1865: Vartype.BINARY\nx1866: Vartype.BINARY\nx1867: Vartype.BINARY\nx1868: Vartype.BINARY\nx1869: Vartype.INTEGER\nx1870: Vartype.BINARY\nx1871: Vartype.BINARY\nx1872: Vartype.BINARY\nx1873: Vartype.BINARY\nx1874: Vartype.BINARY\nx1875: Vartype.BINARY\nx1876: Vartype.BINARY\nx1877: Vartype.BINARY\nx1878: Vartype.INTEGER\nx1879: Vartype.BINARY\nx1880: Vartype.BINARY\nx1881: Vartype.BINARY\nx1882: Vartype.BINARY\nx1883: Vartype.BINARY\nx1884: Vartype.BINARY\nx1885: Vartype.BINARY\nx1886: Vartype.BINARY\nx1887: Vartype.INTEGER\nx1888: Vartype.BINARY\nx1889: Vartype.BINARY\nx1890: Vartype.BINARY\nx1891: Vartype.BINARY\nx1892: Vartype.BINARY\nx1893: Vartype.BINARY\nx1894: Vartype.BINARY\nx1895: Vartype.BINARY\nx1896: Vartype.INTEGER\nx1897: Vartype.BINARY\nx1898: Vartype.BINARY\nx1899: Vartype.BINARY\nx1900: Vartype.BINARY\nx1901: Vartype.BINARY\nx1902: Vartype.BINARY\nx1903: Vartype.BINARY\nx1904: Vartype.BINARY\nx1905: Vartype.INTEGER\nx1906: Vartype.BINARY\nx1907: Vartype.BINARY\nx1908: Vartype.BINARY\nx1909: Vartype.BINARY\nx1910: Vartype.BINARY\nx1911: Vartype.BINARY\nx1912: Vartype.BINARY\nx1913: Vartype.BINARY\nx1914: Vartype.INTEGER\nx1915: Vartype.BINARY\nx1916: Vartype.BINARY\nx1917: Vartype.BINARY\nx1918: Vartype.BINARY\nx1919: Vartype.BINARY\nx1920: Vartype.BINARY\nx1921: Vartype.BINARY\nx1922: Vartype.BINARY\nx1923: Vartype.INTEGER\nx1924: Vartype.BINARY\nx1925: Vartype.BINARY\nx1926: Vartype.BINARY\nx1927: Vartype.BINARY\nx1928: Vartype.BINARY\nx1929: Vartype.BINARY\nx1930: Vartype.BINARY\nx1931: Vartype.BINARY\nx1932: Vartype.INTEGER\nx1933: Vartype.BINARY\nx1934: Vartype.BINARY\nx1935: Vartype.BINARY\nx1936: Vartype.BINARY\nx1937: Vartype.BINARY\nx1938: Vartype.BINARY\nx1939: Vartype.BINARY\nx1940: Vartype.BINARY\nx1941: Vartype.INTEGER\nx1942: Vartype.BINARY\nx1943: Vartype.BINARY\nx1944: Vartype.BINARY\nx1945: Vartype.BINARY\nx1946: Vartype.BINARY\nx1947: Vartype.BINARY\nx1948: Vartype.BINARY\nx1949: Vartype.BINARY\nx1950: Vartype.INTEGER\nx1951: Vartype.BINARY\nx1952: Vartype.BINARY\nx1953: Vartype.BINARY\nx1954: Vartype.BINARY\nx1955: Vartype.BINARY\nx1956: Vartype.BINARY\nx1957: Vartype.BINARY\nx1958: Vartype.BINARY\nx1959: Vartype.INTEGER\nx1960: Vartype.BINARY\nx1961: Vartype.BINARY\nx1962: Vartype.BINARY\nx1963: Vartype.BINARY\nx1964: Vartype.BINARY\nx1965: Vartype.BINARY\nx1966: Vartype.BINARY\nx1967: Vartype.BINARY\nx1968: Vartype.INTEGER\nx1969: Vartype.BINARY\nx1970: Vartype.BINARY\nx1971: Vartype.BINARY\nx1972: Vartype.BINARY\nx1973: Vartype.BINARY\nx1974: Vartype.BINARY\nx1975: Vartype.BINARY\nx1976: Vartype.BINARY\nx1977: Vartype.INTEGER\nx1978: Vartype.BINARY\nx1979: Vartype.BINARY\nx1980: Vartype.BINARY\nx1981: Vartype.BINARY\nx1982: Vartype.BINARY\nx1983: Vartype.BINARY\nx1984: Vartype.BINARY\nx1985: Vartype.BINARY\nx1986: Vartype.INTEGER\nx1987: Vartype.BINARY\nx1988: Vartype.BINARY\nx1989: Vartype.BINARY\nx1990: Vartype.BINARY\nx1991: Vartype.BINARY\nx1992: Vartype.BINARY\nx1993: Vartype.BINARY\nx1994: Vartype.BINARY\nx1995: Vartype.INTEGER\nx1996: Vartype.BINARY\nx1997: Vartype.BINARY\nx1998: Vartype.BINARY\nx1999: Vartype.BINARY\nx2000: Vartype.BINARY\nx2001: Vartype.BINARY\nx2002: Vartype.BINARY\nx2003: Vartype.BINARY\nx2004: Vartype.INTEGER\nx2005: Vartype.BINARY\nx2006: Vartype.BINARY\nx2007: Vartype.BINARY\nx2008: Vartype.BINARY\nx2009: Vartype.BINARY\nx2010: Vartype.BINARY\nx2011: Vartype.BINARY\nx2012: Vartype.BINARY\nx2013: Vartype.INTEGER\nx1: Vartype.REAL\nx2: Vartype.REAL\nx3: Vartype.REAL\nx39: Vartype.REAL\nx102: Vartype.REAL\nx106: Vartype.REAL\nx142: Vartype.REAL\nx154: Vartype.REAL\nx184: Vartype.REAL\nx185: Vartype.REAL\nx186: Vartype.REAL\nx222: Vartype.REAL\nx285: Vartype.REAL\nx289: Vartype.REAL\nx325: Vartype.REAL\nx337: Vartype.REAL\nx4: Vartype.REAL\nx187: Vartype.REAL\nx7: Vartype.REAL\nx190: Vartype.REAL\nx57: Vartype.REAL\nx111: Vartype.REAL\nx124: Vartype.REAL\nx144: Vartype.REAL\nx240: Vartype.REAL\nx294: Vartype.REAL\nx307: Vartype.REAL\nx327: Vartype.REAL\nx5: Vartype.REAL\nx188: Vartype.REAL\nx8: Vartype.REAL\nx191: Vartype.REAL\nx61: Vartype.REAL\nx67: Vartype.REAL\nx112: Vartype.REAL\nx158: Vartype.REAL\nx244: Vartype.REAL\nx250: Vartype.REAL\nx295: Vartype.REAL\nx341: Vartype.REAL\nx6: Vartype.REAL\nx189: Vartype.REAL\nx9: Vartype.REAL\nx192: Vartype.REAL\nx40: Vartype.REAL\nx120: Vartype.REAL\nx137: Vartype.REAL\nx151: Vartype.REAL\nx164: Vartype.REAL\nx174: Vartype.REAL\nx177: Vartype.REAL\nx223: Vartype.REAL\nx303: Vartype.REAL\nx320: Vartype.REAL\nx334: Vartype.REAL\nx347: Vartype.REAL\nx357: Vartype.REAL\nx360: Vartype.REAL\nx10: Vartype.REAL\nx11: Vartype.REAL\nx12: Vartype.REAL\nx45: Vartype.REAL\nx49: Vartype.REAL\nx59: Vartype.REAL\nx73: Vartype.REAL\nx138: Vartype.REAL\nx148: Vartype.REAL\nx193: Vartype.REAL\nx194: Vartype.REAL\nx195: Vartype.REAL\nx228: Vartype.REAL\nx232: Vartype.REAL\nx242: Vartype.REAL\nx256: Vartype.REAL\nx321: Vartype.REAL\nx331: Vartype.REAL\nx13: Vartype.REAL\nx14: Vartype.REAL\nx15: Vartype.REAL\nx53: Vartype.REAL\nx147: Vartype.REAL\nx152: Vartype.REAL\nx166: Vartype.REAL\nx170: Vartype.REAL\nx183: Vartype.REAL\nx196: Vartype.REAL\nx197: Vartype.REAL\nx198: Vartype.REAL\nx236: Vartype.REAL\nx330: Vartype.REAL\nx335: Vartype.REAL\nx349: Vartype.REAL\nx353: Vartype.REAL\nx366: Vartype.REAL\nx130: Vartype.REAL\nx313: Vartype.REAL\nx16: Vartype.REAL\nx199: Vartype.REAL\nx65: Vartype.REAL\nx69: Vartype.REAL\nx131: Vartype.REAL\nx143: Vartype.REAL\nx248: Vartype.REAL\nx252: Vartype.REAL\nx314: Vartype.REAL\nx326: Vartype.REAL\nx150: Vartype.REAL\nx333: Vartype.REAL\nx18: Vartype.REAL\nx201: Vartype.REAL\nx119: Vartype.REAL\nx302: Vartype.REAL\nx41: Vartype.REAL\nx85: Vartype.REAL\nx103: Vartype.REAL\nx153: Vartype.REAL\nx168: Vartype.REAL\nx224: Vartype.REAL\nx268: Vartype.REAL\nx286: Vartype.REAL\nx336: Vartype.REAL\nx351: Vartype.REAL\nx19: Vartype.REAL\nx202: Vartype.REAL\nx23: Vartype.REAL\nx24: Vartype.REAL\nx25: Vartype.REAL\nx75: Vartype.REAL\nx91: Vartype.REAL\nx95: Vartype.REAL\nx99: Vartype.REAL\nx129: Vartype.REAL\nx157: Vartype.REAL\nx206: Vartype.REAL\nx207: Vartype.REAL\nx208: Vartype.REAL\nx258: Vartype.REAL\nx274: Vartype.REAL\nx278: Vartype.REAL\nx282: Vartype.REAL\nx312: Vartype.REAL\nx340: Vartype.REAL\nx21: Vartype.REAL\nx204: Vartype.REAL\nx26: Vartype.REAL\nx209: Vartype.REAL\nx28: Vartype.REAL\nx51: Vartype.REAL\nx115: Vartype.REAL\nx169: Vartype.REAL\nx211: Vartype.REAL\nx234: Vartype.REAL\nx298: Vartype.REAL\nx352: Vartype.REAL\nx22: Vartype.REAL\nx205: Vartype.REAL\nx27: Vartype.REAL\nx210: Vartype.REAL\nx89: Vartype.REAL\nx125: Vartype.REAL\nx140: Vartype.REAL\nx272: Vartype.REAL\nx308: Vartype.REAL\nx323: Vartype.REAL\nx29: Vartype.REAL\nx212: Vartype.REAL\nx33: Vartype.REAL\nx34: Vartype.REAL\nx35: Vartype.REAL\nx47: Vartype.REAL\nx63: Vartype.REAL\nx216: Vartype.REAL\nx217: Vartype.REAL\nx218: Vartype.REAL\nx230: Vartype.REAL\nx246: Vartype.REAL\nx42: Vartype.REAL\nx225: Vartype.REAL\nx128: Vartype.REAL\nx311: Vartype.REAL\nx30: Vartype.REAL\nx213: Vartype.REAL\nx36: Vartype.REAL\nx37: Vartype.REAL\nx55: Vartype.REAL\nx93: Vartype.REAL\nx117: Vartype.REAL\nx146: Vartype.REAL\nx219: Vartype.REAL\nx220: Vartype.REAL\nx238: Vartype.REAL\nx276: Vartype.REAL\nx300: Vartype.REAL\nx329: Vartype.REAL\nx31: Vartype.REAL\nx214: Vartype.REAL\nx38: Vartype.REAL\nx79: Vartype.REAL\nx221: Vartype.REAL\nx262: Vartype.REAL\nx32: Vartype.REAL\nx215: Vartype.REAL\nx98: Vartype.REAL\nx139: Vartype.REAL\nx281: Vartype.REAL\nx322: Vartype.REAL\nx155: Vartype.REAL\nx338: Vartype.REAL\nx171: Vartype.REAL\nx354: Vartype.REAL\nx43: Vartype.REAL\nx226: Vartype.REAL\nx44: Vartype.REAL\nx160: Vartype.REAL\nx227: Vartype.REAL\nx343: Vartype.REAL\nx46: Vartype.REAL\nx101: Vartype.REAL\nx114: Vartype.REAL\nx135: Vartype.REAL\nx229: Vartype.REAL\nx284: Vartype.REAL\nx297: Vartype.REAL\nx318: Vartype.REAL\nx113: Vartype.REAL\nx296: Vartype.REAL\nx48: Vartype.REAL\nx156: Vartype.REAL\nx231: Vartype.REAL\nx339: Vartype.REAL\nx50: Vartype.REAL\nx126: Vartype.REAL\nx233: Vartype.REAL\nx309: Vartype.REAL\nx165: Vartype.REAL\nx348: Vartype.REAL\nx54: Vartype.REAL\nx109: Vartype.REAL\nx116: Vartype.REAL\nx141: Vartype.REAL\nx176: Vartype.REAL\nx237: Vartype.REAL\nx292: Vartype.REAL\nx299: Vartype.REAL\nx324: Vartype.REAL\nx359: Vartype.REAL\nx56: Vartype.REAL\nx110: Vartype.REAL\nx132: Vartype.REAL\nx163: Vartype.REAL\nx239: Vartype.REAL\nx293: Vartype.REAL\nx315: Vartype.REAL\nx346: Vartype.REAL\nx58: Vartype.REAL\nx159: Vartype.REAL\nx241: Vartype.REAL\nx342: Vartype.REAL\nx133: Vartype.REAL\nx316: Vartype.REAL\nx62: Vartype.REAL\nx149: Vartype.REAL\nx245: Vartype.REAL\nx332: Vartype.REAL\nx64: Vartype.REAL\nx104: Vartype.REAL\nx247: Vartype.REAL\nx287: Vartype.REAL\nx52: Vartype.REAL\nx235: Vartype.REAL\nx66: Vartype.REAL\nx249: Vartype.REAL\nx68: Vartype.REAL\nx134: Vartype.REAL\nx251: Vartype.REAL\nx317: Vartype.REAL\n"
     ]
    }
   ],
   "source": [
    "for v in cqm1.variables:\n",
    "    print(v + \": \" + str(cqm1.vartype(v)))"
   ]
  },
  {
   "cell_type": "code",
   "execution_count": 42,
   "metadata": {},
   "outputs": [
    {
     "output_type": "execute_result",
     "data": {
      "text/plain": [
       "Variables(['c1', 'c2', 'c3', 'c4', 'c5', 'c6', 'c7', 'c8', 'c9', 'c10', 'c11', 'c12', 'c13', 'c14', 'c15', 'c16', 'c17', 'c18', 'c19', 'c20', 'c21', 'c22', 'c23', 'c24', 'c25', 'c26', 'c27', 'c28', 'c29', 'c30', 'c31', 'c32', 'c33', 'c34', 'c35', 'c36', 'c37', 'c38', 'c39', 'c40', 'c41', 'c42', 'c43', 'c44', 'c45', 'c46', 'c47', 'c48', 'c49', 'c50', 'c51', 'c52', 'c53', 'c54', 'c55', 'c56', 'c57', 'c58', 'c59', 'c60', 'c61', 'c62', 'c63', 'c64', 'c65', 'c66', 'c67', 'c68', 'c69', 'c70', 'c71', 'c72', 'c73', 'c74', 'c75', 'c76', 'c77', 'c78', 'c79', 'c80', 'c81', 'c82', 'c83', 'c84', 'c85', 'c86', 'c87', 'c88', 'c89', 'c90', 'c91', 'c92', 'c93', 'c94', 'c95', 'c96', 'c97', 'c98', 'c99', 'c100', 'c101', 'c102', 'c103', 'c104', 'c105', 'c106', 'c107', 'c108', 'c109', 'c110', 'c111', 'c112', 'c113', 'c114', 'c115', 'c116', 'c117', 'c118', 'c119', 'c120', 'c121', 'c122', 'c123', 'c124', 'c125', 'c126', 'c127', 'c128', 'c129', 'c130', 'c131', 'c132', 'c133', 'c134', 'c135', 'c136', 'c137', 'c138', 'c139', 'c140', 'c141', 'c142', 'c143', 'c144', 'c145', 'c146', 'c147', 'c148', 'c149', 'c150', 'c151', 'c152', 'c153', 'c154', 'c155', 'c156', 'c157', 'c158', 'c159', 'c160', 'c161', 'c162', 'c163', 'c164', 'c165', 'c166', 'c167', 'c168', 'c169', 'c170', 'c171', 'c172', 'c173', 'c174', 'c175', 'c176', 'c177', 'c178', 'c179', 'c180', 'c181', 'c182', 'c183', 'c184', 'c185', 'c186', 'c187', 'c188', 'c189', 'c190', 'c191', 'c192', 'c193', 'c194', 'c195', 'c196', 'c197', 'c198', 'c199', 'c200', 'c201', 'c202', 'c203', 'c204', 'c205', 'c206', 'c207', 'c208', 'c209', 'c210', 'c211', 'c212', 'c213', 'c214', 'c215', 'c216', 'c217', 'c218', 'c219', 'c220', 'c221', 'c222', 'c223', 'c224', 'c225', 'c226', 'c227', 'c228', 'c229', 'c230', 'c231', 'c232', 'c233'])"
      ]
     },
     "metadata": {},
     "execution_count": 42
    }
   ],
   "source": [
    "cqm1.constraint_labels"
   ]
  },
  {
   "cell_type": "code",
   "execution_count": 51,
   "metadata": {},
   "outputs": [
    {
     "output_type": "execute_result",
     "data": {
      "text/plain": [
       "Eq(ConstraintView({'x67': -1.0, 'x250': 1.0, 'x151': -1.0, 'x334': 1.0, 'x103': -1.0, 'x286': 1.0, 'x159': -1.0, 'x342': 1.0, 'x68': 1.0, 'x134': 1.0, 'x251': -1.0, 'x317': -1.0}, {}, 0.0, {'x67': 'REAL', 'x250': 'REAL', 'x151': 'REAL', 'x334': 'REAL', 'x103': 'REAL', 'x286': 'REAL', 'x159': 'REAL', 'x342': 'REAL', 'x68': 'REAL', 'x134': 'REAL', 'x251': 'REAL', 'x317': 'REAL'}), -91.0)"
      ]
     },
     "metadata": {},
     "execution_count": 51
    }
   ],
   "source": [
    "cqm1.constraints['c35']"
   ]
  },
  {
   "cell_type": "code",
   "execution_count": null,
   "metadata": {},
   "outputs": [],
   "source": []
  }
 ]
}